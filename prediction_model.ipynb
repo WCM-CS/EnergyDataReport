{
 "cells": [
  {
   "cell_type": "markdown",
   "id": "4908a277-cee4-45c7-b4e4-7501ba2fdd24",
   "metadata": {},
   "source": [
    "Install spark"
   ]
  },
  {
   "cell_type": "code",
   "execution_count": 4,
   "id": "a8c0f1e4-e65b-4085-a803-add23cc388af",
   "metadata": {},
   "outputs": [
    {
     "name": "stdout",
     "output_type": "stream",
     "text": [
      "Collecting pyspark\n",
      "  Downloading pyspark-3.5.2.tar.gz (317.3 MB)\n",
      "\u001b[2K     \u001b[90m━━━━━━━━━━━━━━━━━━━━━━━━━━━━━━━━━━━━━━━\u001b[0m \u001b[32m317.3/317.3 MB\u001b[0m \u001b[31m3.6 MB/s\u001b[0m eta \u001b[36m0:00:00\u001b[0m00:01\u001b[0m00:01\u001b[0m\n",
      "\u001b[?25h  Preparing metadata (setup.py) ... \u001b[?25ldone\n",
      "\u001b[?25hCollecting py4j==0.10.9.7 (from pyspark)\n",
      "  Downloading py4j-0.10.9.7-py2.py3-none-any.whl.metadata (1.5 kB)\n",
      "Downloading py4j-0.10.9.7-py2.py3-none-any.whl (200 kB)\n",
      "\u001b[2K   \u001b[90m━━━━━━━━━━━━━━━━━━━━━━━━━━━━━━━━━━━━━━━━\u001b[0m \u001b[32m200.5/200.5 kB\u001b[0m \u001b[31m11.0 MB/s\u001b[0m eta \u001b[36m0:00:00\u001b[0m\n",
      "\u001b[?25hBuilding wheels for collected packages: pyspark\n",
      "  Building wheel for pyspark (setup.py) ... \u001b[?25ldone\n",
      "\u001b[?25h  Created wheel for pyspark: filename=pyspark-3.5.2-py2.py3-none-any.whl size=317812371 sha256=cebc9651d344b3a5fa6ffa7ed3b123aa909f0fba6ef2f6c878289a03a9c090d9\n",
      "  Stored in directory: /Users/walkermartin/Library/Caches/pip/wheels/11/67/ea/33c283e520b775aa7a7a0d404447e287be841a711d074d4d91\n",
      "Successfully built pyspark\n",
      "Installing collected packages: py4j, pyspark\n",
      "Successfully installed py4j-0.10.9.7 pyspark-3.5.2\n",
      "\n",
      "\u001b[1m[\u001b[0m\u001b[34;49mnotice\u001b[0m\u001b[1;39;49m]\u001b[0m\u001b[39;49m A new release of pip is available: \u001b[0m\u001b[31;49m24.0\u001b[0m\u001b[39;49m -> \u001b[0m\u001b[32;49m24.2\u001b[0m\n",
      "\u001b[1m[\u001b[0m\u001b[34;49mnotice\u001b[0m\u001b[1;39;49m]\u001b[0m\u001b[39;49m To update, run: \u001b[0m\u001b[32;49mpip install --upgrade pip\u001b[0m\n",
      "Note: you may need to restart the kernel to use updated packages.\n"
     ]
    }
   ],
   "source": [
    "pip install pyspark"
   ]
  },
  {
   "cell_type": "code",
   "execution_count": 5,
   "id": "18bbc931-7855-4f3e-bbc6-96925328ae73",
   "metadata": {},
   "outputs": [
    {
     "name": "stdout",
     "output_type": "stream",
     "text": [
      "Name: pyspark\n",
      "Version: 3.5.2\n",
      "Summary: Apache Spark Python API\n",
      "Home-page: https://github.com/apache/spark/tree/master/python\n",
      "Author: Spark Developers\n",
      "Author-email: dev@spark.apache.org\n",
      "License: http://www.apache.org/licenses/LICENSE-2.0\n",
      "Location: /Library/Frameworks/Python.framework/Versions/3.9/lib/python3.9/site-packages\n",
      "Requires: py4j\n",
      "Required-by: \n"
     ]
    }
   ],
   "source": [
    "!pip show pyspark"
   ]
  },
  {
   "cell_type": "raw",
   "id": "23b32c45-b43c-4e34-9c61-c4b4f453f4b5",
   "metadata": {},
   "source": [
    "Build park session"
   ]
  },
  {
   "cell_type": "code",
   "execution_count": 159,
   "id": "b5ac3d11-8089-4e9e-a93b-5d438d9e18a5",
   "metadata": {},
   "outputs": [
    {
     "name": "stderr",
     "output_type": "stream",
     "text": [
      "24/09/06 00:28:14 WARN SparkSession: Using an existing Spark session; only runtime SQL configurations will take effect.\n"
     ]
    }
   ],
   "source": [
    "from pyspark.sql import SparkSession\n",
    "\n",
    "spark = SparkSession.builder \\\n",
    "    .appName(\"Predictive Consumption Model\") \\\n",
    "    .getOrCreate()"
   ]
  },
  {
   "cell_type": "code",
   "execution_count": 160,
   "id": "00186fd6-7f25-4bb0-b633-dc3b596187b1",
   "metadata": {},
   "outputs": [
    {
     "name": "stdout",
     "output_type": "stream",
     "text": [
      "3.5.2\n",
      "Predictive Consumption Models\n",
      "local[*]\n"
     ]
    }
   ],
   "source": [
    "print(spark.version)\n",
    "print(spark.sparkContext.appName)\n",
    "print(spark.sparkContext.master)"
   ]
  },
  {
   "cell_type": "raw",
   "id": "ede19ba2-fc79-4bbf-a747-2fa1a114d257",
   "metadata": {},
   "source": [
    "Import data into spark df"
   ]
  },
  {
   "cell_type": "code",
   "execution_count": 161,
   "id": "e1747075-da6f-4d27-91ca-00e05954d566",
   "metadata": {},
   "outputs": [
    {
     "name": "stdout",
     "output_type": "stream",
     "text": [
      "+---+----+------------+-----------+------------+\n",
      "|Id |Year|Fuel_Type_Id|Consumption|Units       |\n",
      "+---+----+------------+-----------+------------+\n",
      "|1  |1950|1           |5974.61    |Trillion BTU|\n",
      "|2  |1955|1           |9006.98    |Trillion BTU|\n",
      "|3  |1960|1           |12397.81   |Trillion BTU|\n",
      "|4  |1965|1           |15830.08   |Trillion BTU|\n",
      "|5  |1970|1           |21900.0    |Trillion BTU|\n",
      "|6  |1975|1           |20241.37   |Trillion BTU|\n",
      "|7  |1980|1           |20592.57   |Trillion BTU|\n",
      "|8  |1985|1           |17903.12   |Trillion BTU|\n",
      "|9  |1990|1           |19864.26   |Trillion BTU|\n",
      "|10 |1995|1           |23006.45   |Trillion BTU|\n",
      "|11 |2000|1           |24172.99   |Trillion BTU|\n",
      "|12 |2005|1           |22806.5    |Trillion BTU|\n",
      "|13 |2010|1           |24954.13   |Trillion BTU|\n",
      "|14 |2011|1           |25358.17   |Trillion BTU|\n",
      "|15 |2012|1           |26457.37   |Trillion BTU|\n",
      "|16 |2013|1           |27096.58   |Trillion BTU|\n",
      "|17 |2014|1           |27550.35   |Trillion BTU|\n",
      "|18 |2015|1           |28224.78   |Trillion BTU|\n",
      "|19 |2016|1           |28431.98   |Trillion BTU|\n",
      "|20 |2017|1           |28123.26   |Trillion BTU|\n",
      "|21 |2018|1           |31234.36   |Trillion BTU|\n",
      "|22 |2019|1           |32264.15   |Trillion BTU|\n",
      "|23 |2020|1           |31674.66   |Trillion BTU|\n",
      "|24 |2021|1           |31749.26   |Trillion BTU|\n",
      "|25 |2022|1           |33423.43   |Trillion BTU|\n",
      "|26 |2023|1           |33676.22   |Trillion BTU|\n",
      "|27 |1950|2           |13398.15   |Trillion BTU|\n",
      "|28 |1955|2           |17541.25   |Trillion BTU|\n",
      "|29 |1960|2           |20325.44   |Trillion BTU|\n",
      "|30 |1965|2           |23883.49   |Trillion BTU|\n",
      "|31 |1970|2           |30491.28   |Trillion BTU|\n",
      "|32 |1975|2           |33862.6    |Trillion BTU|\n",
      "|33 |1980|2           |35385.4    |Trillion BTU|\n",
      "|34 |1985|2           |32626.1    |Trillion BTU|\n",
      "|35 |1990|2           |35244.32   |Trillion BTU|\n",
      "|36 |1995|2           |36773.35   |Trillion BTU|\n",
      "|37 |2000|2           |40872.88   |Trillion BTU|\n",
      "|38 |2005|2           |43157.08   |Trillion BTU|\n",
      "|39 |2010|2           |39787.83   |Trillion BTU|\n",
      "|40 |2011|2           |39202.78   |Trillion BTU|\n",
      "|41 |2012|2           |38231.83   |Trillion BTU|\n",
      "|42 |2013|2           |39350.08   |Trillion BTU|\n",
      "|43 |2014|2           |39626.01   |Trillion BTU|\n",
      "|44 |2015|2           |40522.26   |Trillion BTU|\n",
      "|45 |2016|2           |40854.2    |Trillion BTU|\n",
      "|46 |2017|2           |41393.62   |Trillion BTU|\n",
      "|47 |2018|2           |42555.43   |Trillion BTU|\n",
      "|48 |2019|2           |42619.74   |Trillion BTU|\n",
      "|49 |2020|2           |37729.77   |Trillion BTU|\n",
      "|50 |2021|2           |41264.99   |Trillion BTU|\n",
      "|51 |2022|2           |41513.95   |Trillion BTU|\n",
      "|52 |2023|2           |42003.57   |Trillion BTU|\n",
      "|53 |1950|3           |9299.0     |Trillion BTU|\n",
      "|54 |1955|3           |8412.77    |Trillion BTU|\n",
      "|55 |1960|3           |7491.88    |Trillion BTU|\n",
      "|56 |1965|3           |8882.38    |Trillion BTU|\n",
      "|57 |1970|3           |9847.21    |Trillion BTU|\n",
      "|58 |1975|3           |10588.88   |Trillion BTU|\n",
      "|59 |1980|3           |13225.38   |Trillion BTU|\n",
      "|60 |1985|3           |15395.68   |Trillion BTU|\n",
      "|61 |1990|3           |17015.24   |Trillion BTU|\n",
      "|62 |1995|3           |18106.8    |Trillion BTU|\n",
      "|63 |2000|3           |20402.67   |Trillion BTU|\n",
      "|64 |2005|3           |21190.91   |Trillion BTU|\n",
      "|65 |2010|3           |19733.03   |Trillion BTU|\n",
      "|66 |2011|3           |18875.48   |Trillion BTU|\n",
      "|67 |2012|3           |16734.46   |Trillion BTU|\n",
      "|68 |2013|3           |17398.0    |Trillion BTU|\n",
      "|69 |2014|3           |17271.7    |Trillion BTU|\n",
      "|70 |2015|3           |15020.52   |Trillion BTU|\n",
      "|71 |2016|3           |13758.76   |Trillion BTU|\n",
      "|72 |2017|3           |13491.23   |Trillion BTU|\n",
      "|73 |2018|3           |12950.14   |Trillion BTU|\n",
      "|74 |2019|3           |11038.74   |Trillion BTU|\n",
      "|75 |2020|3           |8971.36    |Trillion BTU|\n",
      "|76 |2021|3           |10269.68   |Trillion BTU|\n",
      "|77 |2022|3           |9702.35    |Trillion BTU|\n",
      "|78 |2023|3           |8015.8     |Trillion BTU|\n",
      "|79 |1990|4           |56.0       |Trillion BTU|\n",
      "|80 |1995|4           |64.0       |Trillion BTU|\n",
      "|81 |2000|4           |59.0       |Trillion BTU|\n",
      "|82 |2005|4           |52.0       |Trillion BTU|\n",
      "|83 |2010|4           |68.0       |Trillion BTU|\n",
      "|84 |2011|4           |76.0       |Trillion BTU|\n",
      "|85 |2012|4           |94.0       |Trillion BTU|\n",
      "|86 |2013|4           |120.0      |Trillion BTU|\n",
      "|87 |2014|4           |161.0      |Trillion BTU|\n",
      "|88 |2015|4           |196.0      |Trillion BTU|\n",
      "|89 |2016|4           |251.0      |Trillion BTU|\n",
      "|90 |2017|4           |329.0      |Trillion BTU|\n",
      "|91 |2018|4           |384.0      |Trillion BTU|\n",
      "|92 |2019|4           |430.0      |Trillion BTU|\n",
      "|93 |2020|4           |511.0      |Trillion BTU|\n",
      "|94 |2021|4           |627.0      |Trillion BTU|\n",
      "|95 |2022|4           |765.0      |Trillion BTU|\n",
      "|96 |2023|4           |878.0      |Trillion BTU|\n",
      "|97 |1990|5           |10.0       |Trillion BTU|\n",
      "|98 |1995|5           |11.0       |Trillion BTU|\n",
      "|99 |2000|5           |19.0       |Trillion BTU|\n",
      "|100|2005|5           |61.0       |Trillion BTU|\n",
      "|101|2010|5           |323.0      |Trillion BTU|\n",
      "|102|2011|5           |410.0      |Trillion BTU|\n",
      "|103|2012|5           |480.0      |Trillion BTU|\n",
      "|104|2013|5           |573.0      |Trillion BTU|\n",
      "|105|2014|5           |620.0      |Trillion BTU|\n",
      "|106|2015|5           |651.0      |Trillion BTU|\n",
      "|107|2016|5           |774.0      |Trillion BTU|\n",
      "|108|2017|5           |868.0      |Trillion BTU|\n",
      "|109|2018|5           |930.0      |Trillion BTU|\n",
      "|110|2019|5           |1010.0     |Trillion BTU|\n",
      "|111|2020|5           |1153.0     |Trillion BTU|\n",
      "|112|2021|5           |1290.0     |Trillion BTU|\n",
      "|113|2022|5           |1482.0     |Trillion BTU|\n",
      "|114|2023|5           |1451.0     |Trillion BTU|\n",
      "|115|1950|6           |344.0      |Trillion BTU|\n",
      "|116|1955|6           |397.0      |Trillion BTU|\n",
      "|117|1960|6           |510.0      |Trillion BTU|\n",
      "|118|1965|6           |672.0      |Trillion BTU|\n",
      "|119|1970|6           |856.0      |Trillion BTU|\n",
      "|120|1975|6           |1034.0     |Trillion BTU|\n",
      "|121|1980|6           |953.0      |Trillion BTU|\n",
      "|122|1985|6           |970.0      |Trillion BTU|\n",
      "|123|1990|6           |999.0      |Trillion BTU|\n",
      "|124|1995|6           |1061.0     |Trillion BTU|\n",
      "|125|2000|6           |940.0      |Trillion BTU|\n",
      "|126|2005|6           |922.0      |Trillion BTU|\n",
      "|127|2010|6           |888.0      |Trillion BTU|\n",
      "|128|2011|6           |1090.0     |Trillion BTU|\n",
      "|129|2012|6           |943.0      |Trillion BTU|\n",
      "|130|2013|6           |916.0      |Trillion BTU|\n",
      "|131|2014|6           |885.0      |Trillion BTU|\n",
      "|132|2015|6           |850.0      |Trillion BTU|\n",
      "|133|2016|6           |914.0      |Trillion BTU|\n",
      "|134|2017|6           |1025.0     |Trillion BTU|\n",
      "|135|2018|6           |998.0      |Trillion BTU|\n",
      "|136|2019|6           |982.0      |Trillion BTU|\n",
      "|137|2020|6           |973.0      |Trillion BTU|\n",
      "|138|2021|6           |858.0      |Trillion BTU|\n",
      "|139|2022|6           |869.0      |Trillion BTU|\n",
      "|140|2023|6           |818.0      |Trillion BTU|\n",
      "|141|1950|7           |1562.0     |Trillion BTU|\n",
      "|142|1955|7           |1424.0     |Trillion BTU|\n",
      "|143|1960|7           |1320.0     |Trillion BTU|\n",
      "|144|1965|7           |1335.0     |Trillion BTU|\n",
      "|145|1970|7           |1429.0     |Trillion BTU|\n",
      "|146|1975|7           |1497.0     |Trillion BTU|\n",
      "|147|1980|7           |2474.0     |Trillion BTU|\n",
      "|148|1985|7           |2687.0     |Trillion BTU|\n",
      "|149|1990|7           |2216.0     |Trillion BTU|\n",
      "|150|1995|7           |2370.0     |Trillion BTU|\n",
      "|151|2000|7           |2262.0     |Trillion BTU|\n",
      "|152|2005|7           |2137.0     |Trillion BTU|\n",
      "|153|2010|7           |2217.0     |Trillion BTU|\n",
      "|154|2011|7           |2213.0     |Trillion BTU|\n",
      "|155|2012|7           |2151.0     |Trillion BTU|\n",
      "|156|2013|7           |2338.0     |Trillion BTU|\n",
      "|157|2014|7           |2401.0     |Trillion BTU|\n",
      "|158|2015|7           |2312.0     |Trillion BTU|\n",
      "|159|2016|7           |2227.0     |Trillion BTU|\n",
      "|160|2017|7           |2185.0     |Trillion BTU|\n",
      "|161|2018|7           |2262.0     |Trillion BTU|\n",
      "|162|2019|7           |2237.0     |Trillion BTU|\n",
      "|163|2020|7           |1970.0     |Trillion BTU|\n",
      "|164|2021|7           |1989.0     |Trillion BTU|\n",
      "|165|2022|7           |2012.0     |Trillion BTU|\n",
      "|166|2023|7           |1918.0     |Trillion BTU|\n",
      "|167|1985|8           |93.0       |Trillion BTU|\n",
      "|168|1990|8           |111.0      |Trillion BTU|\n",
      "|169|1995|8           |200.0      |Trillion BTU|\n",
      "|170|2000|8           |236.0      |Trillion BTU|\n",
      "|171|2005|8           |574.0      |Trillion BTU|\n",
      "|172|2010|8           |1821.0     |Trillion BTU|\n",
      "|173|2011|8           |1941.0     |Trillion BTU|\n",
      "|174|2012|8           |1899.0     |Trillion BTU|\n",
      "|175|2013|8           |2026.0     |Trillion BTU|\n",
      "|176|2014|8           |2099.0     |Trillion BTU|\n",
      "|177|2015|8           |2185.0     |Trillion BTU|\n",
      "|178|2016|8           |2333.0     |Trillion BTU|\n",
      "|179|2017|8           |2364.0     |Trillion BTU|\n",
      "|180|2018|8           |2355.0     |Trillion BTU|\n",
      "|181|2019|8           |2376.0     |Trillion BTU|\n",
      "|182|2020|8           |2136.0     |Trillion BTU|\n",
      "|183|2021|8           |2331.0     |Trillion BTU|\n",
      "|184|2022|8           |2433.0     |Trillion BTU|\n",
      "|185|2023|8           |2662.0     |Trillion BTU|\n",
      "|186|1991|9           |598.58     |Trillion BTU|\n",
      "|187|1992|9           |743.9      |Trillion BTU|\n",
      "|188|1993|9           |780.23     |Trillion BTU|\n",
      "|189|1994|9           |698.92     |Trillion BTU|\n",
      "|190|1995|9           |884.03     |Trillion BTU|\n",
      "|191|1996|9           |799.26     |Trillion BTU|\n",
      "|192|1997|9           |833.86     |Trillion BTU|\n",
      "|193|1998|9           |660.86     |Trillion BTU|\n",
      "|194|1999|9           |1006.86    |Trillion BTU|\n",
      "|195|2000|9           |890.95     |Trillion BTU|\n",
      "|196|2001|9           |911.71     |Trillion BTU|\n",
      "|197|2002|9           |989.56     |Trillion BTU|\n",
      "|198|2003|9           |1077.79    |Trillion BTU|\n",
      "|199|2004|9           |866.73     |Trillion BTU|\n",
      "|200|2005|9           |1008.59    |Trillion BTU|\n",
      "|201|2006|9           |894.41     |Trillion BTU|\n",
      "|202|2007|9           |787.15     |Trillion BTU|\n",
      "|203|2008|9           |887.49     |Trillion BTU|\n",
      "|204|2009|9           |854.62     |Trillion BTU|\n",
      "|205|2010|9           |766.39     |Trillion BTU|\n",
      "|206|2011|9           |880.57     |Trillion BTU|\n",
      "|207|2012|9           |856.35     |Trillion BTU|\n",
      "|208|2013|9           |736.98     |Trillion BTU|\n",
      "|209|2014|9           |873.65     |Trillion BTU|\n",
      "|210|2015|9           |820.02     |Trillion BTU|\n",
      "|211|2016|9           |721.41     |Trillion BTU|\n",
      "|212|2017|9           |787.15     |Trillion BTU|\n",
      "|213|2018|9           |871.92     |Trillion BTU|\n",
      "|214|2019|9           |747.36     |Trillion BTU|\n",
      "|215|2020|9           |840.78     |Trillion BTU|\n",
      "|216|2021|9           |768.12     |Trillion BTU|\n",
      "|217|2022|9           |768.12     |Trillion BTU|\n",
      "|218|2023|9           |759.47     |Trillion BTU|\n",
      "+---+----+------------+-----------+------------+\n",
      "\n"
     ]
    }
   ],
   "source": [
    "file_path = \"Converted_Energy_Consumption.csv\"\n",
    "df = spark.read.csv(file_path, header=True, inferSchema=True)\n",
    "df.show(df.count(), truncate=False)"
   ]
  },
  {
   "cell_type": "code",
   "execution_count": 162,
   "id": "7eae6b32-7099-49de-ad10-c79f2428f72d",
   "metadata": {},
   "outputs": [
    {
     "name": "stdout",
     "output_type": "stream",
     "text": [
      "root\n",
      " |-- Id: integer (nullable = true)\n",
      " |-- Year: integer (nullable = true)\n",
      " |-- Fuel_Type_Id: integer (nullable = true)\n",
      " |-- Consumption: double (nullable = true)\n",
      " |-- Units: string (nullable = true)\n",
      "\n",
      "+-------+------------------+------------------+------------------+------------------+------------+\n",
      "|summary|                Id|              Year|      Fuel_Type_Id|       Consumption|       Units|\n",
      "+-------+------------------+------------------+------------------+------------------+------------+\n",
      "|  count|               218|               218|               218|               218|         218|\n",
      "|   mean|             109.5|2003.1376146788991| 5.068807339449541|  9448.71871559633|        NULL|\n",
      "| stddev|63.075351762792415|19.639595052423868|2.7153496858835537|13111.752175908192|        NULL|\n",
      "|    min|                 1|              1950|                 1|              10.0|Trillion BTU|\n",
      "|    max|               218|              2023|                 9|          43157.08|Trillion BTU|\n",
      "+-------+------------------+------------------+------------------+------------------+------------+\n",
      "\n"
     ]
    }
   ],
   "source": [
    "df.printSchema()\n",
    "df.describe().show()"
   ]
  },
  {
   "cell_type": "raw",
   "id": "1e7f7eea-5f6a-471b-b5d1-2cf6c833dae8",
   "metadata": {},
   "source": [
    "Preprocessing the data"
   ]
  },
  {
   "cell_type": "code",
   "execution_count": 184,
   "id": "09a16669-0cfd-4dcd-a62e-a73482dd68a8",
   "metadata": {},
   "outputs": [
    {
     "ename": "IllegalArgumentException",
     "evalue": "Fuel_Type_OHE does not exist. Available: Id, Year, Fuel_Type_Id, Consumption, Units",
     "output_type": "error",
     "traceback": [
      "\u001b[0;31m---------------------------------------------------------------------------\u001b[0m",
      "\u001b[0;31mIllegalArgumentException\u001b[0m                  Traceback (most recent call last)",
      "Cell \u001b[0;32mIn[184], line 36\u001b[0m\n\u001b[1;32m     33\u001b[0m pipeline \u001b[38;5;241m=\u001b[39m Pipeline(stages\u001b[38;5;241m=\u001b[39mpipeline_stages)\n\u001b[1;32m     35\u001b[0m \u001b[38;5;66;03m# Fit the model\u001b[39;00m\n\u001b[0;32m---> 36\u001b[0m model \u001b[38;5;241m=\u001b[39m \u001b[43mpipeline\u001b[49m\u001b[38;5;241;43m.\u001b[39;49m\u001b[43mfit\u001b[49m\u001b[43m(\u001b[49m\u001b[43mdf\u001b[49m\u001b[43m)\u001b[49m\n",
      "File \u001b[0;32m/Library/Frameworks/Python.framework/Versions/3.9/lib/python3.9/site-packages/pyspark/ml/base.py:205\u001b[0m, in \u001b[0;36mEstimator.fit\u001b[0;34m(self, dataset, params)\u001b[0m\n\u001b[1;32m    203\u001b[0m         \u001b[38;5;28;01mreturn\u001b[39;00m \u001b[38;5;28mself\u001b[39m\u001b[38;5;241m.\u001b[39mcopy(params)\u001b[38;5;241m.\u001b[39m_fit(dataset)\n\u001b[1;32m    204\u001b[0m     \u001b[38;5;28;01melse\u001b[39;00m:\n\u001b[0;32m--> 205\u001b[0m         \u001b[38;5;28;01mreturn\u001b[39;00m \u001b[38;5;28;43mself\u001b[39;49m\u001b[38;5;241;43m.\u001b[39;49m\u001b[43m_fit\u001b[49m\u001b[43m(\u001b[49m\u001b[43mdataset\u001b[49m\u001b[43m)\u001b[49m\n\u001b[1;32m    206\u001b[0m \u001b[38;5;28;01melse\u001b[39;00m:\n\u001b[1;32m    207\u001b[0m     \u001b[38;5;28;01mraise\u001b[39;00m \u001b[38;5;167;01mTypeError\u001b[39;00m(\n\u001b[1;32m    208\u001b[0m         \u001b[38;5;124m\"\u001b[39m\u001b[38;5;124mParams must be either a param map or a list/tuple of param maps, \u001b[39m\u001b[38;5;124m\"\u001b[39m\n\u001b[1;32m    209\u001b[0m         \u001b[38;5;124m\"\u001b[39m\u001b[38;5;124mbut got \u001b[39m\u001b[38;5;132;01m%s\u001b[39;00m\u001b[38;5;124m.\u001b[39m\u001b[38;5;124m\"\u001b[39m \u001b[38;5;241m%\u001b[39m \u001b[38;5;28mtype\u001b[39m(params)\n\u001b[1;32m    210\u001b[0m     )\n",
      "File \u001b[0;32m/Library/Frameworks/Python.framework/Versions/3.9/lib/python3.9/site-packages/pyspark/ml/pipeline.py:132\u001b[0m, in \u001b[0;36mPipeline._fit\u001b[0;34m(self, dataset)\u001b[0m\n\u001b[1;32m    130\u001b[0m \u001b[38;5;28;01mif\u001b[39;00m \u001b[38;5;28misinstance\u001b[39m(stage, Transformer):\n\u001b[1;32m    131\u001b[0m     transformers\u001b[38;5;241m.\u001b[39mappend(stage)\n\u001b[0;32m--> 132\u001b[0m     dataset \u001b[38;5;241m=\u001b[39m \u001b[43mstage\u001b[49m\u001b[38;5;241;43m.\u001b[39;49m\u001b[43mtransform\u001b[49m\u001b[43m(\u001b[49m\u001b[43mdataset\u001b[49m\u001b[43m)\u001b[49m\n\u001b[1;32m    133\u001b[0m \u001b[38;5;28;01melse\u001b[39;00m:  \u001b[38;5;66;03m# must be an Estimator\u001b[39;00m\n\u001b[1;32m    134\u001b[0m     model \u001b[38;5;241m=\u001b[39m stage\u001b[38;5;241m.\u001b[39mfit(dataset)\n",
      "File \u001b[0;32m/Library/Frameworks/Python.framework/Versions/3.9/lib/python3.9/site-packages/pyspark/ml/base.py:262\u001b[0m, in \u001b[0;36mTransformer.transform\u001b[0;34m(self, dataset, params)\u001b[0m\n\u001b[1;32m    260\u001b[0m         \u001b[38;5;28;01mreturn\u001b[39;00m \u001b[38;5;28mself\u001b[39m\u001b[38;5;241m.\u001b[39mcopy(params)\u001b[38;5;241m.\u001b[39m_transform(dataset)\n\u001b[1;32m    261\u001b[0m     \u001b[38;5;28;01melse\u001b[39;00m:\n\u001b[0;32m--> 262\u001b[0m         \u001b[38;5;28;01mreturn\u001b[39;00m \u001b[38;5;28;43mself\u001b[39;49m\u001b[38;5;241;43m.\u001b[39;49m\u001b[43m_transform\u001b[49m\u001b[43m(\u001b[49m\u001b[43mdataset\u001b[49m\u001b[43m)\u001b[49m\n\u001b[1;32m    263\u001b[0m \u001b[38;5;28;01melse\u001b[39;00m:\n\u001b[1;32m    264\u001b[0m     \u001b[38;5;28;01mraise\u001b[39;00m \u001b[38;5;167;01mTypeError\u001b[39;00m(\u001b[38;5;124m\"\u001b[39m\u001b[38;5;124mParams must be a param map but got \u001b[39m\u001b[38;5;132;01m%s\u001b[39;00m\u001b[38;5;124m.\u001b[39m\u001b[38;5;124m\"\u001b[39m \u001b[38;5;241m%\u001b[39m \u001b[38;5;28mtype\u001b[39m(params))\n",
      "File \u001b[0;32m/Library/Frameworks/Python.framework/Versions/3.9/lib/python3.9/site-packages/pyspark/ml/wrapper.py:398\u001b[0m, in \u001b[0;36mJavaTransformer._transform\u001b[0;34m(self, dataset)\u001b[0m\n\u001b[1;32m    395\u001b[0m \u001b[38;5;28;01massert\u001b[39;00m \u001b[38;5;28mself\u001b[39m\u001b[38;5;241m.\u001b[39m_java_obj \u001b[38;5;129;01mis\u001b[39;00m \u001b[38;5;129;01mnot\u001b[39;00m \u001b[38;5;28;01mNone\u001b[39;00m\n\u001b[1;32m    397\u001b[0m \u001b[38;5;28mself\u001b[39m\u001b[38;5;241m.\u001b[39m_transfer_params_to_java()\n\u001b[0;32m--> 398\u001b[0m \u001b[38;5;28;01mreturn\u001b[39;00m DataFrame(\u001b[38;5;28;43mself\u001b[39;49m\u001b[38;5;241;43m.\u001b[39;49m\u001b[43m_java_obj\u001b[49m\u001b[38;5;241;43m.\u001b[39;49m\u001b[43mtransform\u001b[49m\u001b[43m(\u001b[49m\u001b[43mdataset\u001b[49m\u001b[38;5;241;43m.\u001b[39;49m\u001b[43m_jdf\u001b[49m\u001b[43m)\u001b[49m, dataset\u001b[38;5;241m.\u001b[39msparkSession)\n",
      "File \u001b[0;32m/Library/Frameworks/Python.framework/Versions/3.9/lib/python3.9/site-packages/py4j/java_gateway.py:1322\u001b[0m, in \u001b[0;36mJavaMember.__call__\u001b[0;34m(self, *args)\u001b[0m\n\u001b[1;32m   1316\u001b[0m command \u001b[38;5;241m=\u001b[39m proto\u001b[38;5;241m.\u001b[39mCALL_COMMAND_NAME \u001b[38;5;241m+\u001b[39m\\\n\u001b[1;32m   1317\u001b[0m     \u001b[38;5;28mself\u001b[39m\u001b[38;5;241m.\u001b[39mcommand_header \u001b[38;5;241m+\u001b[39m\\\n\u001b[1;32m   1318\u001b[0m     args_command \u001b[38;5;241m+\u001b[39m\\\n\u001b[1;32m   1319\u001b[0m     proto\u001b[38;5;241m.\u001b[39mEND_COMMAND_PART\n\u001b[1;32m   1321\u001b[0m answer \u001b[38;5;241m=\u001b[39m \u001b[38;5;28mself\u001b[39m\u001b[38;5;241m.\u001b[39mgateway_client\u001b[38;5;241m.\u001b[39msend_command(command)\n\u001b[0;32m-> 1322\u001b[0m return_value \u001b[38;5;241m=\u001b[39m \u001b[43mget_return_value\u001b[49m\u001b[43m(\u001b[49m\n\u001b[1;32m   1323\u001b[0m \u001b[43m    \u001b[49m\u001b[43manswer\u001b[49m\u001b[43m,\u001b[49m\u001b[43m \u001b[49m\u001b[38;5;28;43mself\u001b[39;49m\u001b[38;5;241;43m.\u001b[39;49m\u001b[43mgateway_client\u001b[49m\u001b[43m,\u001b[49m\u001b[43m \u001b[49m\u001b[38;5;28;43mself\u001b[39;49m\u001b[38;5;241;43m.\u001b[39;49m\u001b[43mtarget_id\u001b[49m\u001b[43m,\u001b[49m\u001b[43m \u001b[49m\u001b[38;5;28;43mself\u001b[39;49m\u001b[38;5;241;43m.\u001b[39;49m\u001b[43mname\u001b[49m\u001b[43m)\u001b[49m\n\u001b[1;32m   1325\u001b[0m \u001b[38;5;28;01mfor\u001b[39;00m temp_arg \u001b[38;5;129;01min\u001b[39;00m temp_args:\n\u001b[1;32m   1326\u001b[0m     \u001b[38;5;28;01mif\u001b[39;00m \u001b[38;5;28mhasattr\u001b[39m(temp_arg, \u001b[38;5;124m\"\u001b[39m\u001b[38;5;124m_detach\u001b[39m\u001b[38;5;124m\"\u001b[39m):\n",
      "File \u001b[0;32m/Library/Frameworks/Python.framework/Versions/3.9/lib/python3.9/site-packages/pyspark/errors/exceptions/captured.py:185\u001b[0m, in \u001b[0;36mcapture_sql_exception.<locals>.deco\u001b[0;34m(*a, **kw)\u001b[0m\n\u001b[1;32m    181\u001b[0m converted \u001b[38;5;241m=\u001b[39m convert_exception(e\u001b[38;5;241m.\u001b[39mjava_exception)\n\u001b[1;32m    182\u001b[0m \u001b[38;5;28;01mif\u001b[39;00m \u001b[38;5;129;01mnot\u001b[39;00m \u001b[38;5;28misinstance\u001b[39m(converted, UnknownException):\n\u001b[1;32m    183\u001b[0m     \u001b[38;5;66;03m# Hide where the exception came from that shows a non-Pythonic\u001b[39;00m\n\u001b[1;32m    184\u001b[0m     \u001b[38;5;66;03m# JVM exception message.\u001b[39;00m\n\u001b[0;32m--> 185\u001b[0m     \u001b[38;5;28;01mraise\u001b[39;00m converted \u001b[38;5;28;01mfrom\u001b[39;00m \u001b[38;5;28mNone\u001b[39m\n\u001b[1;32m    186\u001b[0m \u001b[38;5;28;01melse\u001b[39;00m:\n\u001b[1;32m    187\u001b[0m     \u001b[38;5;28;01mraise\u001b[39;00m\n",
      "\u001b[0;31mIllegalArgumentException\u001b[0m: Fuel_Type_OHE does not exist. Available: Id, Year, Fuel_Type_Id, Consumption, Units"
     ]
    }
   ],
   "source": [
    "from pyspark.ml.feature import StringIndexer, OneHotEncoder, VectorAssembler, MinMaxScaler\n",
    "from pyspark.ml import Pipeline\n",
    "from pyspark.ml.regression import RandomForestRegressor\n",
    "from pyspark.ml.evaluation import RegressionEvaluator\n",
    "\n",
    "\n",
    "\n",
    "scaler = MinMaxScaler(inputCol=\"Year\", outputCol=\"Year_Scaled\")\n",
    "\n",
    "rf = RandomForestRegressor(\n",
    "    featuresCol=\"features\",\n",
    "    labelCol=\"Consumption\",\n",
    "    numTrees=2, \n",
    "    maxDepth=2\n",
    ")\n",
    "\n",
    "# Define Pipeline\n",
    "pipeline = Pipeline(stages=[\n",
    "    scaler, \n",
    "    rf\n",
    "])\n",
    "\n",
    "# Assemble features\n",
    "assembler = VectorAssembler(\n",
    "    inputCols=[\"Fuel_Type_OHE\", \"Year_Scaled\"], \n",
    "    outputCol=\"features\"\n",
    ")\n",
    "\n",
    "# Add assembler to the pipeline stages\n",
    "pipeline_stages = [assembler] + pipeline.getStages()\n",
    "\n",
    "# Create the pipeline\n",
    "pipeline = Pipeline(stages=pipeline_stages)\n",
    "\n",
    "# Fit the model\n",
    "model = pipeline.fit(df)\n",
    "\n",
    "\n",
    "\n",
    "\n"
   ]
  },
  {
   "cell_type": "code",
   "execution_count": 179,
   "id": "bbda2577-8854-4a14-8e09-b01cb588b22a",
   "metadata": {},
   "outputs": [
    {
     "name": "stdout",
     "output_type": "stream",
     "text": [
      "+----+------------+-----------------+\n",
      "|Year|Fuel_Type_Id|       prediction|\n",
      "+----+------------+-----------------+\n",
      "|2025|           1|20637.68242966433|\n",
      "|2026|           1|20637.68242966433|\n",
      "|2027|           1|20637.68242966433|\n",
      "|2028|           1|20637.68242966433|\n",
      "|2029|           1|20637.68242966433|\n",
      "|2030|           1|20637.68242966433|\n",
      "|2031|           1|20637.68242966433|\n",
      "|2032|           1|20637.68242966433|\n",
      "|2033|           1|20637.68242966433|\n",
      "|2034|           1|20637.68242966433|\n",
      "|2035|           1|20637.68242966433|\n",
      "|2036|           1|20637.68242966433|\n",
      "|2037|           1|20637.68242966433|\n",
      "|2038|           1|20637.68242966433|\n",
      "|2039|           1|20637.68242966433|\n",
      "|2040|           1|20637.68242966433|\n",
      "|2041|           1|20637.68242966433|\n",
      "|2042|           1|20637.68242966433|\n",
      "|2043|           1|20637.68242966433|\n",
      "|2044|           1|20637.68242966433|\n",
      "+----+------------+-----------------+\n",
      "only showing top 20 rows\n",
      "\n"
     ]
    }
   ],
   "source": [
    "# Prediction data\n",
    "\n",
    "new_data1 = spark.createDataFrame([\n",
    "    Row(Year=2025, Fuel_Type_Id=1), \n",
    "    Row(Year=2026, Fuel_Type_Id=1),\n",
    "    Row(Year=2027, Fuel_Type_Id=1),\n",
    "    Row(Year=2028, Fuel_Type_Id=1),\n",
    "    Row(Year=2029, Fuel_Type_Id=1),\n",
    "    Row(Year=2030, Fuel_Type_Id=1),\n",
    "    Row(Year=2031, Fuel_Type_Id=1),\n",
    "    Row(Year=2032, Fuel_Type_Id=1),\n",
    "    Row(Year=2033, Fuel_Type_Id=1),\n",
    "    Row(Year=2034, Fuel_Type_Id=1),\n",
    "    Row(Year=2035, Fuel_Type_Id=1),\n",
    "    Row(Year=2036, Fuel_Type_Id=1),\n",
    "    Row(Year=2037, Fuel_Type_Id=1),\n",
    "    Row(Year=2038, Fuel_Type_Id=1),\n",
    "    Row(Year=2039, Fuel_Type_Id=1),\n",
    "    Row(Year=2040, Fuel_Type_Id=1),\n",
    "    Row(Year=2041, Fuel_Type_Id=1),\n",
    "    Row(Year=2042, Fuel_Type_Id=1),\n",
    "    Row(Year=2043, Fuel_Type_Id=1),\n",
    "    Row(Year=2044, Fuel_Type_Id=1),\n",
    "    Row(Year=2045, Fuel_Type_Id=1),\n",
    "    Row(Year=2046, Fuel_Type_Id=1),\n",
    "    Row(Year=2047, Fuel_Type_Id=1),\n",
    "    Row(Year=2048, Fuel_Type_Id=1),\n",
    "    Row(Year=2049, Fuel_Type_Id=1),\n",
    "    Row(Year=2050, Fuel_Type_Id=1),\n",
    "], ['Year', 'Fuel_Type_Id'])\n",
    "\n",
    "predictions = model.transform(new_data1)\n",
    "predictions.select(\"Year\", \"Fuel_Type_Id\", \"prediction\").show()\n"
   ]
  },
  {
   "cell_type": "code",
   "execution_count": 181,
   "id": "e6545430-f58e-4ef8-85bd-cb0b149b5795",
   "metadata": {},
   "outputs": [
    {
     "name": "stdout",
     "output_type": "stream",
     "text": [
      "+----+------------+-----------------+\n",
      "|Year|Fuel_Type_Id|       prediction|\n",
      "+----+------------+-----------------+\n",
      "|2025|           9|852.2707427322679|\n",
      "|2026|           9|852.2707427322679|\n",
      "|2027|           9|852.2707427322679|\n",
      "|2028|           9|852.2707427322679|\n",
      "|2029|           9|852.2707427322679|\n",
      "|2030|           9|852.2707427322679|\n",
      "|2031|           9|852.2707427322679|\n",
      "|2032|           9|852.2707427322679|\n",
      "|2033|           9|852.2707427322679|\n",
      "|2034|           9|852.2707427322679|\n",
      "|2035|           9|852.2707427322679|\n",
      "|2036|           9|852.2707427322679|\n",
      "|2037|           9|852.2707427322679|\n",
      "|2038|           9|852.2707427322679|\n",
      "|2039|           9|852.2707427322679|\n",
      "|2040|           9|852.2707427322679|\n",
      "|2041|           9|852.2707427322679|\n",
      "|2042|           9|852.2707427322679|\n",
      "|2043|           9|852.2707427322679|\n",
      "|2044|           9|852.2707427322679|\n",
      "+----+------------+-----------------+\n",
      "only showing top 20 rows\n",
      "\n"
     ]
    },
    {
     "ename": "AttributeError",
     "evalue": "'Pipeline' object has no attribute 'transform'",
     "output_type": "error",
     "traceback": [
      "\u001b[0;31m---------------------------------------------------------------------------\u001b[0m",
      "\u001b[0;31mAttributeError\u001b[0m                            Traceback (most recent call last)",
      "Cell \u001b[0;32mIn[181], line 35\u001b[0m\n\u001b[1;32m     32\u001b[0m predictions \u001b[38;5;241m=\u001b[39m model\u001b[38;5;241m.\u001b[39mtransform(new_data9)\n\u001b[1;32m     33\u001b[0m predictions\u001b[38;5;241m.\u001b[39mselect(\u001b[38;5;124m\"\u001b[39m\u001b[38;5;124mYear\u001b[39m\u001b[38;5;124m\"\u001b[39m, \u001b[38;5;124m\"\u001b[39m\u001b[38;5;124mFuel_Type_Id\u001b[39m\u001b[38;5;124m\"\u001b[39m, \u001b[38;5;124m\"\u001b[39m\u001b[38;5;124mprediction\u001b[39m\u001b[38;5;124m\"\u001b[39m)\u001b[38;5;241m.\u001b[39mshow()\n\u001b[0;32m---> 35\u001b[0m new_data_transformed \u001b[38;5;241m=\u001b[39m \u001b[43mpipeline\u001b[49m\u001b[38;5;241;43m.\u001b[39;49m\u001b[43mtransform\u001b[49m(new_data9)\n\u001b[1;32m     36\u001b[0m predictions \u001b[38;5;241m=\u001b[39m model\u001b[38;5;241m.\u001b[39mtransform(new_data_transformed)\n",
      "\u001b[0;31mAttributeError\u001b[0m: 'Pipeline' object has no attribute 'transform'"
     ]
    }
   ],
   "source": [
    "# Prediction data\n",
    "\n",
    "new_data9 = spark.createDataFrame([\n",
    "    Row(Year=2025, Fuel_Type_Id=9), \n",
    "    Row(Year=2026, Fuel_Type_Id=9),\n",
    "    Row(Year=2027, Fuel_Type_Id=9),\n",
    "    Row(Year=2028, Fuel_Type_Id=9),\n",
    "    Row(Year=2029, Fuel_Type_Id=9),\n",
    "    Row(Year=2030, Fuel_Type_Id=9),\n",
    "    Row(Year=2031, Fuel_Type_Id=9),\n",
    "    Row(Year=2032, Fuel_Type_Id=9),\n",
    "    Row(Year=2033, Fuel_Type_Id=9),\n",
    "    Row(Year=2034, Fuel_Type_Id=9),\n",
    "    Row(Year=2035, Fuel_Type_Id=9),\n",
    "    Row(Year=2036, Fuel_Type_Id=9),\n",
    "    Row(Year=2037, Fuel_Type_Id=9),\n",
    "    Row(Year=2038, Fuel_Type_Id=9),\n",
    "    Row(Year=2039, Fuel_Type_Id=9),\n",
    "    Row(Year=2040, Fuel_Type_Id=9),\n",
    "    Row(Year=2041, Fuel_Type_Id=9),\n",
    "    Row(Year=2042, Fuel_Type_Id=9),\n",
    "    Row(Year=2043, Fuel_Type_Id=9),\n",
    "    Row(Year=2044, Fuel_Type_Id=9),\n",
    "    Row(Year=2045, Fuel_Type_Id=9),\n",
    "    Row(Year=2046, Fuel_Type_Id=9),\n",
    "    Row(Year=2047, Fuel_Type_Id=9),\n",
    "    Row(Year=2048, Fuel_Type_Id=9),\n",
    "    Row(Year=2049, Fuel_Type_Id=9),\n",
    "    Row(Year=2050, Fuel_Type_Id=9),\n",
    "], ['Year', 'Fuel_Type_Id'])\n",
    "\n",
    "predictions = model.transform(new_data9)\n",
    "predictions.select(\"Year\", \"Fuel_Type_Id\", \"prediction\").show()\n",
    "\n",
    "new_data_transformed = pipeline.transform(new_data9)\n",
    "predictions = model.transform(new_data_transformed)\n",
    "\n",
    "\n"
   ]
  },
  {
   "cell_type": "code",
   "execution_count": 175,
   "id": "0102c820-d1f2-4722-8b64-9c72fa414dbf",
   "metadata": {},
   "outputs": [
    {
     "name": "stdout",
     "output_type": "stream",
     "text": [
      "<class 'pyspark.ml.pipeline.PipelineModel'>\n"
     ]
    }
   ],
   "source": [
    "print(type(model))"
   ]
  },
  {
   "cell_type": "code",
   "execution_count": null,
   "id": "05c3f6d8-16c5-432d-acac-c431c82b82d4",
   "metadata": {},
   "outputs": [],
   "source": []
  },
  {
   "cell_type": "code",
   "execution_count": 182,
   "id": "b6234224-7345-4a70-a204-d837f1c35a8d",
   "metadata": {},
   "outputs": [
    {
     "name": "stdout",
     "output_type": "stream",
     "text": [
      "Feature Importances: (9,[0,1,2,3,4,5,6,7,8],[0.041016246283603834,0.19350432442617188,0.6318694971378909,0.030053351612061664,0.0175460250644841,0.03837812837410805,1.5203388067754965e-05,0.009482447565703062,0.03813477614790885])\n"
     ]
    }
   ],
   "source": [
    "rf_model = model.stages[-1]\n",
    "importances = rf_model.featureImportances\n",
    "print(\"Feature Importances:\", importances)"
   ]
  },
  {
   "cell_type": "code",
   "execution_count": null,
   "id": "a124836c-84c6-4309-b4fd-a977503fd313",
   "metadata": {},
   "outputs": [],
   "source": []
  }
 ],
 "metadata": {
  "kernelspec": {
   "display_name": "Python 3 (ipykernel)",
   "language": "python",
   "name": "python3"
  },
  "language_info": {
   "codemirror_mode": {
    "name": "ipython",
    "version": 3
   },
   "file_extension": ".py",
   "mimetype": "text/x-python",
   "name": "python",
   "nbconvert_exporter": "python",
   "pygments_lexer": "ipython3",
   "version": "3.9.7"
  }
 },
 "nbformat": 4,
 "nbformat_minor": 5
}
